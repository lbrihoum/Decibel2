{
 "cells": [
  {
   "cell_type": "markdown",
   "metadata": {},
   "source": [
    "**Chapter 10 – Introduction to Artificial Neural Networks**"
   ]
  },
  {
   "cell_type": "markdown",
   "metadata": {},
   "source": [
    "_This notebook contains all the sample code and solutions to the exercises in chapter 10._"
   ]
  },
  {
   "cell_type": "markdown",
   "metadata": {},
   "source": [
    "# Setup"
   ]
  },
  {
   "cell_type": "markdown",
   "metadata": {},
   "source": [
    "First, let's make sure this notebook works well in both python 2 and 3, import a few common modules, ensure MatplotLib plots figures inline and prepare a function to save the figures:"
   ]
  },
  {
   "cell_type": "code",
   "execution_count": 1,
   "metadata": {},
   "outputs": [
    {
     "ename": "ModuleNotFoundError",
     "evalue": "No module named 'tensorflow'",
     "output_type": "error",
     "traceback": [
      "\u001b[1;31m---------------------------------------------------------------------------\u001b[0m",
      "\u001b[1;31mModuleNotFoundError\u001b[0m                       Traceback (most recent call last)",
      "\u001b[1;32m<ipython-input-1-aa0200ae5c55>\u001b[0m in \u001b[0;36m<module>\u001b[1;34m()\u001b[0m\n\u001b[0;32m     14\u001b[0m \u001b[1;32mimport\u001b[0m \u001b[0mtime\u001b[0m\u001b[1;33m\u001b[0m\u001b[0m\n\u001b[0;32m     15\u001b[0m \u001b[1;32mimport\u001b[0m \u001b[0mnumpy\u001b[0m \u001b[1;32mas\u001b[0m \u001b[0mnp\u001b[0m\u001b[1;33m\u001b[0m\u001b[0m\n\u001b[1;32m---> 16\u001b[1;33m \u001b[1;32mimport\u001b[0m \u001b[0mtensorflow\u001b[0m \u001b[1;32mas\u001b[0m \u001b[0mtf\u001b[0m\u001b[1;33m\u001b[0m\u001b[0m\n\u001b[0m\u001b[0;32m     17\u001b[0m \u001b[1;33m\u001b[0m\u001b[0m\n\u001b[0;32m     18\u001b[0m \u001b[0mmodelArray\u001b[0m \u001b[1;33m=\u001b[0m \u001b[1;33m[\u001b[0m\u001b[1;33m]\u001b[0m\u001b[1;33m\u001b[0m\u001b[0m\n",
      "\u001b[1;31mModuleNotFoundError\u001b[0m: No module named 'tensorflow'"
     ]
    }
   ],
   "source": [
    "# To support both python 2 and python 3\n",
    "from __future__ import division, print_function, unicode_literals\n",
    "\n",
    "# Common imports\n",
    "import numpy as np\n",
    "import os\n",
    "import pandas\n",
    "from numpy.random import shuffle\n",
    "from sklearn import model_selection\n",
    "\n",
    "from sklearn.metrics import accuracy_score\n",
    "\n",
    "# Import Time\n",
    "import time\n",
    "import numpy as np\n",
    "import tensorflow as tf\n",
    "\n",
    "modelArray = []\n",
    "class NNModel:\n",
    "    hiddenUnits = []\n",
    "    totalClasses = 0\n",
    "    batchSize = 0\n",
    "    totalSteps = 0\n",
    "    trainTime = 0\n",
    "    neuralNet = tf.contrib.learn.DNNClassifier(0,0)\n",
    "    \n"
   ]
  },
  {
   "cell_type": "markdown",
   "metadata": {},
   "source": [
    "# Loading The Dataset"
   ]
  },
  {
   "cell_type": "code",
   "execution_count": null,
   "metadata": {},
   "outputs": [],
   "source": [
    "\n",
    "# load dataset\n",
    "url = \"file:///C:/Users/zache/jupyterMemes/Decibel2/data_better_NN.csv\"\n",
    "# url = \"file:///<file path here>/iris.csv\"\n",
    "names = ['chroma_stft', 'rmse', 'spectral_centroid', 'spectral_bandwidth', 'rolloff', 'zero_crossing_rate', 'mfcc1', 'mfcc2', 'mfcc3', 'mfcc4', 'mfcc5', 'mfcc6', 'mfcc7', 'mfcc8', 'mfcc9', 'mfcc10', 'mfcc11', 'mfcc12', 'mfcc13', 'mfcc14', 'mfcc15', 'mfcc16', 'mfcc17', 'mfcc18', 'mfcc19', 'label'];\n",
    "dataset = pandas.read_csv(url, names=names)\n",
    "array = dataset.values\n",
    "X = array[:,0:25]\n",
    "X = X.astype(np.float32)\n",
    "Y = array[:,25]\n",
    "Y = Y.astype(np.int32)\n",
    "test_size = 0.20\n",
    "seed = 7\n",
    "X_train, X_test, Y_train, Y_test = model_selection.train_test_split(X, Y, test_size=test_size, random_state=seed)\n",
    "\n",
    "\n"
   ]
  },
  {
   "cell_type": "code",
   "execution_count": null,
   "metadata": {},
   "outputs": [],
   "source": [
    "\n",
    "# --- Test Case Example ---\n",
    "\n",
    "# 1. Create a New Test Case\n",
    "test = NNModel()\n",
    "\n",
    "# 2. Add Parameters \n",
    "test.hiddenUnits = [100]\n",
    "test.totalClasses = 7\n",
    "test.batchSize = 32\n",
    "test.totalSteps = 10000\n",
    "\n",
    "# 3. Add Test Case to modelArray\n",
    "modelArray.append(test)\n",
    "\n",
    "print(modelArray)\n",
    "\n",
    "for modelParam in modelArray:\n",
    "    feature_cols = tf.contrib.learn.infer_real_valued_columns_from_input(X_train)\n",
    "    neuralNet = tf.contrib.learn.DNNClassifier(hidden_units=modelParam.hiddenUnits, n_classes=modelParam.totalClasses, feature_columns=feature_cols)\n",
    "    neuralNet = tf.contrib.learn.SKCompat(neuralNet)\n",
    "    modelParam.trainTime = time.time()\n",
    "    neuralNet.fit(X_train, Y_train, batch_size=modelParam.batchSize, steps=modelParam.totalSteps)\n",
    "    modelParam.trainTime = time.time() - modelParam.trainTime\n",
    "    modelParam.trainedNNModel = neuralNet\n",
    "    "
   ]
  },
  {
   "cell_type": "code",
   "execution_count": null,
   "metadata": {},
   "outputs": [],
   "source": [
    "for model in modelArray:\n",
    "    print(\"Neural Network Parameters:\")\n",
    "    print(\"Hidn Units = \", model.hiddenUnits)\n",
    "    print(\"Batch Size = \", model.batchSize)\n",
    "    print(\"# of Steps = \", model.totalSteps)\n",
    "    print(\"Train Time = \", model.trainTime)\n",
    "    print(\"Accuracy   = \", accuracy_score(Y_test, model.trainedNNModel.predict(X_test)['classes']))\n",
    "    print(\"\")"
   ]
  },
  {
   "cell_type": "code",
   "execution_count": null,
   "metadata": {},
   "outputs": [],
   "source": []
  }
 ],
 "metadata": {
  "kernelspec": {
   "display_name": "Python 3",
   "language": "python",
   "name": "python3"
  },
  "language_info": {
   "codemirror_mode": {
    "name": "ipython",
    "version": 3
   },
   "file_extension": ".py",
   "mimetype": "text/x-python",
   "name": "python",
   "nbconvert_exporter": "python",
   "pygments_lexer": "ipython3",
   "version": "3.7.0"
  },
  "nav_menu": {
   "height": "264px",
   "width": "369px"
  },
  "toc": {
   "navigate_menu": true,
   "number_sections": true,
   "sideBar": true,
   "threshold": 6,
   "toc_cell": false,
   "toc_section_display": "block",
   "toc_window_display": false
  }
 },
 "nbformat": 4,
 "nbformat_minor": 1
}
